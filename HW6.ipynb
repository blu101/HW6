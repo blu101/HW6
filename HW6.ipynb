{
 "cells": [
  {
   "cell_type": "code",
   "execution_count": 1,
   "id": "fundamental-reality",
   "metadata": {},
   "outputs": [],
   "source": [
    "from matplotlib import pyplot as plt\n",
    "import pandas as pd\n",
    "import numpy as np\n",
    "from sklearn import preprocessing\n",
    "from sklearn.model_selection import train_test_split,cross_val_predict,cross_val_score\n",
    "from sklearn.linear_model import LinearRegression\n",
    "from sklearn.tree import DecisionTreeRegressor\n",
    "from sklearn.ensemble import RandomForestRegressor\n",
    "from sklearn.metrics import mean_squared_error\n",
    "from sklearn.svm import SVR\n",
    "from sklearn.model_selection import GridSearchCV\n",
    "import seaborn as sns\n",
    "import warnings\n",
    "warnings.filterwarnings(\"ignore\")\n",
    "\n"
   ]
  },
  {
   "cell_type": "markdown",
   "id": "spoken-happening",
   "metadata": {},
   "source": [
    "# Understanding The Dataset"
   ]
  },
  {
   "cell_type": "markdown",
   "id": "sharing-batch",
   "metadata": {},
   "source": [
    "The main reason for the dataset is to tell us about the efficiency of fuel consumption of vehicles. The goal of this project is to predict the MPG(miles per gallon) for a vehicle given specific attributes of that vehicle. Within the data, the input to our algorithm is the {Cylinders, Displacement, Horsepower, Weight, Acceleration, Model Year, Origin}. We then use a {Linear regression, Decision Tree Regression, Random Forest Regresion, SVM} to output a predicited {MPG(Miles per gallon}. "
   ]
  },
  {
   "cell_type": "markdown",
   "id": "accompanied-apollo",
   "metadata": {},
   "source": [
    "The problem will be a regression problem, since the output variable is a continuous value, MPG. Therefore, I will be using Linear Regression, Decision Tree Regression, Random Forest Regression and SVM algorithms on the data."
   ]
  },
  {
   "cell_type": "markdown",
   "id": "central-placement",
   "metadata": {},
   "source": [
    "# Personal Objective "
   ]
  },
  {
   "cell_type": "markdown",
   "id": "equivalent-worcester",
   "metadata": {},
   "source": [
    "After university, I will be working as a Software Develoepr at a car company and believe that working with data on cars would be beneficial for me. I lack knowledge about cars and believe that by working on a dataset on cars and the features of cars I will understand more about which attributes would affect MPG of cars. I will also be working with datasets on cars within my future job and believe that this will be good practice for me."
   ]
  },
  {
   "cell_type": "markdown",
   "id": "exclusive-store",
   "metadata": {},
   "source": [
    "# Other Benefits"
   ]
  },
  {
   "cell_type": "markdown",
   "id": "filled-hypothetical",
   "metadata": {},
   "source": [
    "As people begin to buy cars or figure out what the most beneficial car one can get for the price, looking at MPG(miles per gallon) will be important as it will be able to save people a plethora of money. When purchasing a car or renting a car, a lot of research must go into which car will be the most affordable and by utilizing this, one can figure out the MPG one can get based on specific attributes of a car."
   ]
  },
  {
   "cell_type": "markdown",
   "id": "early-consequence",
   "metadata": {},
   "source": [
    "# Related Work "
   ]
  },
  {
   "cell_type": "markdown",
   "id": "cooked-porcelain",
   "metadata": {},
   "source": [
    "There are similar works that do end to end machine learning to make predictions of car MPG based off of specific car features. Many of these other projects use Linear Regression, Decision Tree, and Random Forest but I have only seen a few that utilize hyperparameter tuning and I will be utilizing that within this project. "
   ]
  },
  {
   "cell_type": "markdown",
   "id": "promotional-geology",
   "metadata": {},
   "source": [
    "# Explore The Data"
   ]
  },
  {
   "cell_type": "markdown",
   "id": "infrared-victim",
   "metadata": {},
   "source": [
    "I am using a dataset from UCI, citation: https://archive.ics.uci.edu/ml/datasets/auto+mpg"
   ]
  },
  {
   "cell_type": "markdown",
   "id": "processed-harmony",
   "metadata": {},
   "source": [
    "As shown in the table below, there are 8 attributes, {Cylinders, Displacement, Horspower, Weight, Acceleration, Model Year, Origin, and MPG} with MPG being the output based on the other attributes. "
   ]
  },
  {
   "cell_type": "code",
   "execution_count": 2,
   "id": "focused-pickup",
   "metadata": {},
   "outputs": [
    {
     "data": {
      "text/html": [
       "<div>\n",
       "<style scoped>\n",
       "    .dataframe tbody tr th:only-of-type {\n",
       "        vertical-align: middle;\n",
       "    }\n",
       "\n",
       "    .dataframe tbody tr th {\n",
       "        vertical-align: top;\n",
       "    }\n",
       "\n",
       "    .dataframe thead th {\n",
       "        text-align: right;\n",
       "    }\n",
       "</style>\n",
       "<table border=\"1\" class=\"dataframe\">\n",
       "  <thead>\n",
       "    <tr style=\"text-align: right;\">\n",
       "      <th></th>\n",
       "      <th>MPG</th>\n",
       "      <th>Cylinders</th>\n",
       "      <th>Displacement</th>\n",
       "      <th>Horsepower</th>\n",
       "      <th>Weight</th>\n",
       "      <th>Acceleration</th>\n",
       "      <th>Model Year</th>\n",
       "      <th>Origin</th>\n",
       "    </tr>\n",
       "  </thead>\n",
       "  <tbody>\n",
       "    <tr>\n",
       "      <th>0</th>\n",
       "      <td>15.0</td>\n",
       "      <td>8</td>\n",
       "      <td>350.0</td>\n",
       "      <td>165.0</td>\n",
       "      <td>3693.0</td>\n",
       "      <td>11.5</td>\n",
       "      <td>70</td>\n",
       "      <td>1</td>\n",
       "    </tr>\n",
       "    <tr>\n",
       "      <th>1</th>\n",
       "      <td>18.0</td>\n",
       "      <td>8</td>\n",
       "      <td>318.0</td>\n",
       "      <td>150.0</td>\n",
       "      <td>3436.0</td>\n",
       "      <td>11.0</td>\n",
       "      <td>70</td>\n",
       "      <td>1</td>\n",
       "    </tr>\n",
       "    <tr>\n",
       "      <th>2</th>\n",
       "      <td>16.0</td>\n",
       "      <td>8</td>\n",
       "      <td>304.0</td>\n",
       "      <td>150.0</td>\n",
       "      <td>3433.0</td>\n",
       "      <td>12.0</td>\n",
       "      <td>70</td>\n",
       "      <td>1</td>\n",
       "    </tr>\n",
       "    <tr>\n",
       "      <th>3</th>\n",
       "      <td>17.0</td>\n",
       "      <td>8</td>\n",
       "      <td>302.0</td>\n",
       "      <td>140.0</td>\n",
       "      <td>3449.0</td>\n",
       "      <td>10.5</td>\n",
       "      <td>70</td>\n",
       "      <td>1</td>\n",
       "    </tr>\n",
       "    <tr>\n",
       "      <th>4</th>\n",
       "      <td>15.0</td>\n",
       "      <td>8</td>\n",
       "      <td>429.0</td>\n",
       "      <td>198.0</td>\n",
       "      <td>4341.0</td>\n",
       "      <td>10.0</td>\n",
       "      <td>70</td>\n",
       "      <td>1</td>\n",
       "    </tr>\n",
       "  </tbody>\n",
       "</table>\n",
       "</div>"
      ],
      "text/plain": [
       "    MPG  Cylinders  Displacement  Horsepower  Weight  Acceleration  \\\n",
       "0  15.0          8         350.0       165.0  3693.0          11.5   \n",
       "1  18.0          8         318.0       150.0  3436.0          11.0   \n",
       "2  16.0          8         304.0       150.0  3433.0          12.0   \n",
       "3  17.0          8         302.0       140.0  3449.0          10.5   \n",
       "4  15.0          8         429.0       198.0  4341.0          10.0   \n",
       "\n",
       "   Model Year  Origin  \n",
       "0          70       1  \n",
       "1          70       1  \n",
       "2          70       1  \n",
       "3          70       1  \n",
       "4          70       1  "
      ]
     },
     "execution_count": 2,
     "metadata": {},
     "output_type": "execute_result"
    }
   ],
   "source": [
    "#Read in auto_mpg dataset \n",
    "df = pd.read_csv('./auto-mpg.data', na_values = \"?\",\n",
    "                comment = '\\t',\n",
    "                sep= \" \",\n",
    "                skipinitialspace=True)\n",
    "\n",
    "df.columns = ['MPG','Cylinders','Displacement','Horsepower','Weight',\n",
    "                'Acceleration', 'Model Year', 'Origin']\n",
    "data_mpg = df.copy()\n",
    "data_mpg.head()\n"
   ]
  },
  {
   "cell_type": "markdown",
   "id": "literary-lecture",
   "metadata": {},
   "source": [
    "As seen with the information below, there are a total of 297 samples with the attributes being all numeric, either float or int type. However, as seen with the attribute of Horsepower, there are only 391 non-null counts meaning there are 6 missing values within Horsepower."
   ]
  },
  {
   "cell_type": "code",
   "execution_count": 3,
   "id": "satisfactory-dealing",
   "metadata": {},
   "outputs": [
    {
     "name": "stdout",
     "output_type": "stream",
     "text": [
      "<class 'pandas.core.frame.DataFrame'>\n",
      "RangeIndex: 397 entries, 0 to 396\n",
      "Data columns (total 8 columns):\n",
      " #   Column        Non-Null Count  Dtype  \n",
      "---  ------        --------------  -----  \n",
      " 0   MPG           397 non-null    float64\n",
      " 1   Cylinders     397 non-null    int64  \n",
      " 2   Displacement  397 non-null    float64\n",
      " 3   Horsepower    391 non-null    float64\n",
      " 4   Weight        397 non-null    float64\n",
      " 5   Acceleration  397 non-null    float64\n",
      " 6   Model Year    397 non-null    int64  \n",
      " 7   Origin        397 non-null    int64  \n",
      "dtypes: float64(5), int64(3)\n",
      "memory usage: 24.9 KB\n"
     ]
    }
   ],
   "source": [
    "data_mpg.info()"
   ]
  },
  {
   "cell_type": "code",
   "execution_count": 4,
   "id": "expanded-mileage",
   "metadata": {
    "scrolled": true
   },
   "outputs": [
    {
     "data": {
      "text/plain": [
       "MPG             0\n",
       "Cylinders       0\n",
       "Displacement    0\n",
       "Horsepower      6\n",
       "Weight          0\n",
       "Acceleration    0\n",
       "Model Year      0\n",
       "Origin          0\n",
       "dtype: int64"
      ]
     },
     "execution_count": 4,
     "metadata": {},
     "output_type": "execute_result"
    }
   ],
   "source": [
    "data_mpg.isnull().sum()"
   ]
  },
  {
   "cell_type": "code",
   "execution_count": 5,
   "id": "neither-blink",
   "metadata": {
    "scrolled": false
   },
   "outputs": [
    {
     "data": {
      "text/html": [
       "<div>\n",
       "<style scoped>\n",
       "    .dataframe tbody tr th:only-of-type {\n",
       "        vertical-align: middle;\n",
       "    }\n",
       "\n",
       "    .dataframe tbody tr th {\n",
       "        vertical-align: top;\n",
       "    }\n",
       "\n",
       "    .dataframe thead th {\n",
       "        text-align: right;\n",
       "    }\n",
       "</style>\n",
       "<table border=\"1\" class=\"dataframe\">\n",
       "  <thead>\n",
       "    <tr style=\"text-align: right;\">\n",
       "      <th></th>\n",
       "      <th>MPG</th>\n",
       "      <th>Cylinders</th>\n",
       "      <th>Displacement</th>\n",
       "      <th>Horsepower</th>\n",
       "      <th>Weight</th>\n",
       "      <th>Acceleration</th>\n",
       "      <th>Model Year</th>\n",
       "      <th>Origin</th>\n",
       "    </tr>\n",
       "  </thead>\n",
       "  <tbody>\n",
       "    <tr>\n",
       "      <th>count</th>\n",
       "      <td>397.000000</td>\n",
       "      <td>397.000000</td>\n",
       "      <td>397.000000</td>\n",
       "      <td>391.000000</td>\n",
       "      <td>397.000000</td>\n",
       "      <td>397.000000</td>\n",
       "      <td>397.000000</td>\n",
       "      <td>397.000000</td>\n",
       "    </tr>\n",
       "    <tr>\n",
       "      <th>mean</th>\n",
       "      <td>23.528463</td>\n",
       "      <td>5.448363</td>\n",
       "      <td>193.139798</td>\n",
       "      <td>104.404092</td>\n",
       "      <td>2969.080605</td>\n",
       "      <td>15.577078</td>\n",
       "      <td>76.025189</td>\n",
       "      <td>1.574307</td>\n",
       "    </tr>\n",
       "    <tr>\n",
       "      <th>std</th>\n",
       "      <td>7.820926</td>\n",
       "      <td>1.698329</td>\n",
       "      <td>104.244898</td>\n",
       "      <td>38.518732</td>\n",
       "      <td>847.485218</td>\n",
       "      <td>2.755326</td>\n",
       "      <td>3.689922</td>\n",
       "      <td>0.802549</td>\n",
       "    </tr>\n",
       "    <tr>\n",
       "      <th>min</th>\n",
       "      <td>9.000000</td>\n",
       "      <td>3.000000</td>\n",
       "      <td>68.000000</td>\n",
       "      <td>46.000000</td>\n",
       "      <td>1613.000000</td>\n",
       "      <td>8.000000</td>\n",
       "      <td>70.000000</td>\n",
       "      <td>1.000000</td>\n",
       "    </tr>\n",
       "    <tr>\n",
       "      <th>25%</th>\n",
       "      <td>17.500000</td>\n",
       "      <td>4.000000</td>\n",
       "      <td>104.000000</td>\n",
       "      <td>75.000000</td>\n",
       "      <td>2223.000000</td>\n",
       "      <td>13.900000</td>\n",
       "      <td>73.000000</td>\n",
       "      <td>1.000000</td>\n",
       "    </tr>\n",
       "    <tr>\n",
       "      <th>50%</th>\n",
       "      <td>23.000000</td>\n",
       "      <td>4.000000</td>\n",
       "      <td>146.000000</td>\n",
       "      <td>93.000000</td>\n",
       "      <td>2800.000000</td>\n",
       "      <td>15.500000</td>\n",
       "      <td>76.000000</td>\n",
       "      <td>1.000000</td>\n",
       "    </tr>\n",
       "    <tr>\n",
       "      <th>75%</th>\n",
       "      <td>29.000000</td>\n",
       "      <td>8.000000</td>\n",
       "      <td>262.000000</td>\n",
       "      <td>125.000000</td>\n",
       "      <td>3609.000000</td>\n",
       "      <td>17.200000</td>\n",
       "      <td>79.000000</td>\n",
       "      <td>2.000000</td>\n",
       "    </tr>\n",
       "    <tr>\n",
       "      <th>max</th>\n",
       "      <td>46.600000</td>\n",
       "      <td>8.000000</td>\n",
       "      <td>455.000000</td>\n",
       "      <td>230.000000</td>\n",
       "      <td>5140.000000</td>\n",
       "      <td>24.800000</td>\n",
       "      <td>82.000000</td>\n",
       "      <td>3.000000</td>\n",
       "    </tr>\n",
       "  </tbody>\n",
       "</table>\n",
       "</div>"
      ],
      "text/plain": [
       "              MPG   Cylinders  Displacement  Horsepower       Weight  \\\n",
       "count  397.000000  397.000000    397.000000  391.000000   397.000000   \n",
       "mean    23.528463    5.448363    193.139798  104.404092  2969.080605   \n",
       "std      7.820926    1.698329    104.244898   38.518732   847.485218   \n",
       "min      9.000000    3.000000     68.000000   46.000000  1613.000000   \n",
       "25%     17.500000    4.000000    104.000000   75.000000  2223.000000   \n",
       "50%     23.000000    4.000000    146.000000   93.000000  2800.000000   \n",
       "75%     29.000000    8.000000    262.000000  125.000000  3609.000000   \n",
       "max     46.600000    8.000000    455.000000  230.000000  5140.000000   \n",
       "\n",
       "       Acceleration  Model Year      Origin  \n",
       "count    397.000000  397.000000  397.000000  \n",
       "mean      15.577078   76.025189    1.574307  \n",
       "std        2.755326    3.689922    0.802549  \n",
       "min        8.000000   70.000000    1.000000  \n",
       "25%       13.900000   73.000000    1.000000  \n",
       "50%       15.500000   76.000000    1.000000  \n",
       "75%       17.200000   79.000000    2.000000  \n",
       "max       24.800000   82.000000    3.000000  "
      ]
     },
     "execution_count": 5,
     "metadata": {},
     "output_type": "execute_result"
    }
   ],
   "source": [
    "data_mpg.describe()"
   ]
  },
  {
   "cell_type": "markdown",
   "id": "absolute-turkey",
   "metadata": {},
   "source": [
    "## Histogram of Numeric Attributes"
   ]
  },
  {
   "cell_type": "markdown",
   "id": "downtown-singles",
   "metadata": {},
   "source": [
    "Below is a group of histograms of the numeric attributes and we can see that cars in this dataset have mostly 4, 6 or 8 cylinders. The MPG is quite distributed with a higher peak around 17-18 MPG."
   ]
  },
  {
   "cell_type": "code",
   "execution_count": 6,
   "id": "motivated-mountain",
   "metadata": {},
   "outputs": [
    {
     "data": {
      "image/png": "[encoded data removed]",
      "text/plain": [
       "<Figure size 1440x1080 with 9 Axes>"
      ]
     },
     "metadata": {
      "needs_background": "light"
     },
     "output_type": "display_data"
    }
   ],
   "source": [
    "%matplotlib inline\n",
    "# checking the graphical rep of the whole dataset(only numerical attributes)\n",
    "data_mpg.hist(bins=50,figsize=(20,15))\n",
    "plt.show()"
   ]
  },
  {
   "cell_type": "markdown",
   "id": "composite-trade",
   "metadata": {},
   "source": [
    "### Issue with Horsepower missing values"
   ]
  },
  {
   "cell_type": "markdown",
   "id": "figured-principal",
   "metadata": {},
   "source": [
    "I made a boxplot to determine how many outliers there are within the feature of horsepower and as shown we have a few outliers."
   ]
  },
  {
   "cell_type": "code",
   "execution_count": 7,
   "id": "historic-bible",
   "metadata": {},
   "outputs": [
    {
     "data": {
      "text/plain": [
       "<AxesSubplot:xlabel='Horsepower'>"
      ]
     },
     "execution_count": 7,
     "metadata": {},
     "output_type": "execute_result"
    },
    {
     "data": {
      "image/png": "[encoded data removed]",
      "text/plain": [
       "<Figure size 432x288 with 1 Axes>"
      ]
     },
     "metadata": {
      "needs_background": "light"
     },
     "output_type": "display_data"
    }
   ],
   "source": [
    "sns.boxplot(x = data_mpg['Horsepower'])\n"
   ]
  },
  {
   "cell_type": "markdown",
   "id": "corrected-organ",
   "metadata": {},
   "source": [
    "# Create Train/Test Split\n"
   ]
  },
  {
   "cell_type": "code",
   "execution_count": 8,
   "id": "handled-angel",
   "metadata": {},
   "outputs": [],
   "source": [
    "y = data_mpg['MPG']\n",
    "data_mpg = data_mpg.drop(columns=['MPG'])\n",
    "trainX, testX, trainY, testY = train_test_split(data_mpg, y, test_size = .2, random_state=2)\n",
    "\n",
    "#copy of trainX to update/add columns\n",
    "trainX = trainX.copy()\n",
    "testX = testX.copy()"
   ]
  },
  {
   "cell_type": "markdown",
   "id": "utility-absorption",
   "metadata": {},
   "source": [
    "# Check for Null Values\n"
   ]
  },
  {
   "cell_type": "code",
   "execution_count": 9,
   "id": "parallel-showcase",
   "metadata": {},
   "outputs": [
    {
     "data": {
      "text/plain": [
       "True"
      ]
     },
     "execution_count": 9,
     "metadata": {},
     "output_type": "execute_result"
    }
   ],
   "source": [
    "trainX.isnull().values.any()"
   ]
  },
  {
   "cell_type": "code",
   "execution_count": 10,
   "id": "bearing-abraham",
   "metadata": {},
   "outputs": [
    {
     "data": {
      "text/plain": [
       "5"
      ]
     },
     "execution_count": 10,
     "metadata": {},
     "output_type": "execute_result"
    }
   ],
   "source": [
    "trainX.isnull().values.sum()\n"
   ]
  },
  {
   "cell_type": "code",
   "execution_count": 11,
   "id": "expensive-tumor",
   "metadata": {},
   "outputs": [
    {
     "data": {
      "text/plain": [
       "True"
      ]
     },
     "execution_count": 11,
     "metadata": {},
     "output_type": "execute_result"
    }
   ],
   "source": [
    "trainX['Horsepower'].isnull().values.any()\n"
   ]
  },
  {
   "cell_type": "markdown",
   "id": "athletic-shopper",
   "metadata": {},
   "source": [
    "## Fill in empty values"
   ]
  },
  {
   "cell_type": "markdown",
   "id": "failing-lightning",
   "metadata": {},
   "source": [
    "Since Horsepower has missing values I decided to use the median of the feature to fill in the missing values."
   ]
  },
  {
   "cell_type": "code",
   "execution_count": 12,
   "id": "institutional-naples",
   "metadata": {},
   "outputs": [
    {
     "data": {
      "text/plain": [
       "False"
      ]
     },
     "execution_count": 12,
     "metadata": {},
     "output_type": "execute_result"
    }
   ],
   "source": [
    "median = data_mpg['Horsepower'].median()\n",
    "trainX['Horsepower']=trainX['Horsepower'].fillna(median)\n",
    "trainX['Horsepower'].isnull().values.any()"
   ]
  },
  {
   "cell_type": "code",
   "execution_count": 13,
   "id": "amazing-affairs",
   "metadata": {},
   "outputs": [
    {
     "name": "stdout",
     "output_type": "stream",
     "text": [
      "<class 'pandas.core.frame.DataFrame'>\n",
      "Int64Index: 317 entries, 203 to 168\n",
      "Data columns (total 7 columns):\n",
      " #   Column        Non-Null Count  Dtype  \n",
      "---  ------        --------------  -----  \n",
      " 0   Cylinders     317 non-null    int64  \n",
      " 1   Displacement  317 non-null    float64\n",
      " 2   Horsepower    317 non-null    float64\n",
      " 3   Weight        317 non-null    float64\n",
      " 4   Acceleration  317 non-null    float64\n",
      " 5   Model Year    317 non-null    int64  \n",
      " 6   Origin        317 non-null    int64  \n",
      "dtypes: float64(4), int64(3)\n",
      "memory usage: 19.8 KB\n"
     ]
    }
   ],
   "source": [
    "trainX.info()"
   ]
  },
  {
   "cell_type": "markdown",
   "id": "solar-second",
   "metadata": {},
   "source": [
    "## Scaling the feature "
   ]
  },
  {
   "cell_type": "code",
   "execution_count": 14,
   "id": "induced-external",
   "metadata": {},
   "outputs": [],
   "source": [
    "scaler = preprocessing.StandardScaler()\n",
    "trainX = scaler.fit_transform(trainX)"
   ]
  },
  {
   "cell_type": "markdown",
   "id": "protecting-witness",
   "metadata": {},
   "source": [
    "# Linear Regression Algorithm\n"
   ]
  },
  {
   "cell_type": "markdown",
   "id": "regulation-burner",
   "metadata": {},
   "source": [
    "Linear Regression is a supervised machine learning algorithm where the predicted output is continuous and has a constant slope. Rather than a classification problem, linear regression is used to predict values for continuous problems such as ours: MPG(Miles Per Gallon)."
   ]
  },
  {
   "cell_type": "code",
   "execution_count": 15,
   "id": "dietary-visibility",
   "metadata": {},
   "outputs": [
    {
     "data": {
      "text/plain": [
       "LinearRegression()"
      ]
     },
     "execution_count": 15,
     "metadata": {},
     "output_type": "execute_result"
    }
   ],
   "source": [
    "lin_reg = LinearRegression()\n",
    "lin_reg.fit(trainX, trainY)"
   ]
  },
  {
   "cell_type": "code",
   "execution_count": 16,
   "id": "active-bulgaria",
   "metadata": {
    "scrolled": true
   },
   "outputs": [
    {
     "name": "stdout",
     "output_type": "stream",
     "text": [
      "rmse: 3.3770220664170227\n"
     ]
    }
   ],
   "source": [
    "#testing the predictions\n",
    "predictions = lin_reg.predict(trainX)\n",
    "lin_mse = mean_squared_error(trainY, predictions)\n",
    "lin_rmse = np.sqrt(lin_mse)\n",
    "print(\"rmse:\",lin_rmse)"
   ]
  },
  {
   "cell_type": "markdown",
   "id": "eleven-appointment",
   "metadata": {},
   "source": [
    "# Decision Tree  Algorithm"
   ]
  },
  {
   "cell_type": "markdown",
   "id": "creative-vienna",
   "metadata": {},
   "source": [
    "A decision tree is a simple transparent machine learning technique where the learned function is represented in the form of a tree. Decision trees can be used as an algorithm for both regression and classification models. Essentially the decision tree breaks down a dataaset into smaller subsets creating an associated decision tree. The final result is a tree with decision nodes and leaf nodes."
   ]
  },
  {
   "cell_type": "code",
   "execution_count": 17,
   "id": "violent-accent",
   "metadata": {},
   "outputs": [
    {
     "data": {
      "text/plain": [
       "DecisionTreeRegressor()"
      ]
     },
     "execution_count": 17,
     "metadata": {},
     "output_type": "execute_result"
    }
   ],
   "source": [
    "tree = DecisionTreeRegressor()\n",
    "tree.fit(trainX, trainY)"
   ]
  },
  {
   "cell_type": "code",
   "execution_count": 18,
   "id": "incoming-ethernet",
   "metadata": {},
   "outputs": [
    {
     "name": "stdout",
     "output_type": "stream",
     "text": [
      "rmse: 0.0\n"
     ]
    }
   ],
   "source": [
    "predictions = tree.predict(trainX)\n",
    "tree_mse = mean_squared_error(trainY, predictions)\n",
    "tree_rmse = np.sqrt(tree_mse)\n",
    "print(\"rmse:\",tree_rmse)"
   ]
  },
  {
   "cell_type": "markdown",
   "id": "diverse-heavy",
   "metadata": {},
   "source": [
    "The rmse came back as 0, meaning there is absolutely no error. This would be amazing, however, what actually happened is that our model has extremely overfit the model. Our model has essentially performed extremely well with our training data but will perform poorly on the test data which is data that our model has never seen before."
   ]
  },
  {
   "cell_type": "markdown",
   "id": "animal-strap",
   "metadata": {},
   "source": [
    "## Cross Validation on Decision Tree Model "
   ]
  },
  {
   "cell_type": "markdown",
   "id": "royal-afternoon",
   "metadata": {},
   "source": [
    "One way to get a better sense of the accuracy of our model is to use cross validation. \n",
    "K-fold cross-validation will randomly split the training set into k distinct subsets called folds, then it trains and evaluates the model k times, picking a different fold for evaluation every time and training on the other (k-1) folds. By using the same training data over and over it will give us a better idea of the overall accuracy of our model."
   ]
  },
  {
   "cell_type": "markdown",
   "id": "formed-dictionary",
   "metadata": {},
   "source": [
    "I decided to use a value of k=10 for all cross validations since it gave better RMSE scores as well as 10 folds being one of the common values applied in machine learning models."
   ]
  },
  {
   "cell_type": "code",
   "execution_count": 19,
   "id": "revised-permission",
   "metadata": {},
   "outputs": [
    {
     "data": {
      "text/plain": [
       "array([2.66346813, 3.38826098, 4.292326  , 2.11578886, 2.80184091,\n",
       "       6.04175575, 4.71298074, 4.3277052 , 4.34585453, 4.07015098])"
      ]
     },
     "execution_count": 19,
     "metadata": {},
     "output_type": "execute_result"
    }
   ],
   "source": [
    "scores = cross_val_score(tree, trainX, trainY, scoring= \"neg_mean_squared_error\", cv=10)\n",
    "tree_rmse_scores = np.sqrt(-scores)\n",
    "tree_rmse_scores\n"
   ]
  },
  {
   "cell_type": "code",
   "execution_count": 20,
   "id": "fatty-jackson",
   "metadata": {},
   "outputs": [
    {
     "name": "stdout",
     "output_type": "stream",
     "text": [
      "rmse:  3.876013209474327\n"
     ]
    }
   ],
   "source": [
    "tree_rmse = tree_rmse_scores.mean()\n",
    "print(\"rmse: \", tree_rmse)"
   ]
  },
  {
   "cell_type": "markdown",
   "id": "initial-fence",
   "metadata": {},
   "source": [
    "## Cross Validation on Linear Regression Model"
   ]
  },
  {
   "cell_type": "code",
   "execution_count": 21,
   "id": "gross-regular",
   "metadata": {},
   "outputs": [
    {
     "data": {
      "text/plain": [
       "array([3.14704765, 2.75162203, 4.20558443, 3.20057484, 3.13540678,\n",
       "       4.33908668, 3.4828133 , 3.78566221, 3.34024713, 3.0269735 ])"
      ]
     },
     "execution_count": 21,
     "metadata": {},
     "output_type": "execute_result"
    }
   ],
   "source": [
    "scores = cross_val_score(lin_reg, trainX, trainY, scoring= \"neg_mean_squared_error\", cv = 10)\n",
    "lin_reg_rmse_scores = np.sqrt(-scores)\n",
    "lin_reg_rmse_scores"
   ]
  },
  {
   "cell_type": "code",
   "execution_count": 22,
   "id": "palestinian-beauty",
   "metadata": {},
   "outputs": [
    {
     "name": "stdout",
     "output_type": "stream",
     "text": [
      "rmse:  3.441501854378192\n"
     ]
    }
   ],
   "source": [
    "lin_reg_rmse = lin_reg_rmse_scores.mean()\n",
    "print(\"rmse: \",lin_reg_rmse)"
   ]
  },
  {
   "cell_type": "markdown",
   "id": "southern-reach",
   "metadata": {},
   "source": [
    "# Random Forest Model\n"
   ]
  },
  {
   "cell_type": "markdown",
   "id": "built-rings",
   "metadata": {},
   "source": [
    "Random forest is a supervised learning algorithm which builds a \"forest\" that can be used for classification and regression problems. It provides an improvement over bagged trees by way of a small tweak that decorrelates the tree. "
   ]
  },
  {
   "cell_type": "code",
   "execution_count": 23,
   "id": "historic-infection",
   "metadata": {},
   "outputs": [
    {
     "data": {
      "text/plain": [
       "RandomForestRegressor()"
      ]
     },
     "execution_count": 23,
     "metadata": {},
     "output_type": "execute_result"
    }
   ],
   "source": [
    "rand_forest = RandomForestRegressor()\n",
    "rand_forest.fit(trainX, trainY)\n"
   ]
  },
  {
   "cell_type": "code",
   "execution_count": 24,
   "id": "seven-carroll",
   "metadata": {},
   "outputs": [
    {
     "data": {
      "text/plain": [
       "array([2.4856381 , 2.3161096 , 3.30094493, 2.21953656, 1.64676431,\n",
       "       3.5386494 , 4.06963902, 2.72392536, 2.41850757, 2.94494231])"
      ]
     },
     "execution_count": 24,
     "metadata": {},
     "output_type": "execute_result"
    }
   ],
   "source": [
    "rand_forest_scores = cross_val_score(rand_forest, trainX, trainY, scoring='neg_mean_squared_error', cv=10)\n",
    "rand_forest_rmse_scores = np.sqrt(-rand_forest_scores)\n",
    "rand_forest_rmse_scores"
   ]
  },
  {
   "cell_type": "code",
   "execution_count": 25,
   "id": "royal-composer",
   "metadata": {},
   "outputs": [
    {
     "name": "stdout",
     "output_type": "stream",
     "text": [
      "rmse:  2.7664657159242436\n"
     ]
    }
   ],
   "source": [
    "rand_forest_rmse = rand_forest_rmse_scores.mean()\n",
    "\n",
    "print(\"rmse: \", rand_forest_rmse)"
   ]
  },
  {
   "cell_type": "markdown",
   "id": "julian-advertiser",
   "metadata": {},
   "source": [
    "# Support Vector Machine Model"
   ]
  },
  {
   "cell_type": "markdown",
   "id": "transsexual-weapon",
   "metadata": {},
   "source": [
    "The object of the support vector machine algorithm is to find a hyperplane in an N-dimensional space that distinctly classifies the data points. A hyperplane in p dimensions is a subspace of dimension p-1."
   ]
  },
  {
   "cell_type": "code",
   "execution_count": 26,
   "id": "grateful-courage",
   "metadata": {},
   "outputs": [
    {
     "data": {
      "text/plain": [
       "array([3.50207558, 3.11906101, 4.13285123, 3.0435626 , 3.42340206,\n",
       "       4.70944108, 3.70666419, 3.83137545, 3.23666191, 3.07499219])"
      ]
     },
     "execution_count": 26,
     "metadata": {},
     "output_type": "execute_result"
    }
   ],
   "source": [
    "svm = SVR(kernel='linear')\n",
    "svm.fit(trainX, trainY)\n",
    "svm_scores = cross_val_score(svm, trainX, trainY, scoring='neg_mean_squared_error', cv=10)\n",
    "svm_rmse_scores = np.sqrt(-svm_scores)\n",
    "svm_rmse_scores"
   ]
  },
  {
   "cell_type": "code",
   "execution_count": 27,
   "id": "defensive-rebate",
   "metadata": {},
   "outputs": [
    {
     "name": "stdout",
     "output_type": "stream",
     "text": [
      "rmse:  3.5780087289565627\n"
     ]
    }
   ],
   "source": [
    "svm_rmse = svm_rmse_scores.mean()\n",
    "print(\"rmse: \",svm_rmse)"
   ]
  },
  {
   "cell_type": "markdown",
   "id": "shared-distinction",
   "metadata": {},
   "source": [
    "## All RMSE with cross validation k=10"
   ]
  },
  {
   "cell_type": "code",
   "execution_count": 28,
   "id": "congressional-blackjack",
   "metadata": {
    "scrolled": true
   },
   "outputs": [
    {
     "data": {
      "text/html": [
       "<div>\n",
       "<style scoped>\n",
       "    .dataframe tbody tr th:only-of-type {\n",
       "        vertical-align: middle;\n",
       "    }\n",
       "\n",
       "    .dataframe tbody tr th {\n",
       "        vertical-align: top;\n",
       "    }\n",
       "\n",
       "    .dataframe thead th {\n",
       "        text-align: right;\n",
       "    }\n",
       "</style>\n",
       "<table border=\"1\" class=\"dataframe\">\n",
       "  <thead>\n",
       "    <tr style=\"text-align: right;\">\n",
       "      <th></th>\n",
       "      <th>RMSE</th>\n",
       "    </tr>\n",
       "  </thead>\n",
       "  <tbody>\n",
       "    <tr>\n",
       "      <th>LinearRegression</th>\n",
       "      <td>3.441502</td>\n",
       "    </tr>\n",
       "    <tr>\n",
       "      <th>DecisionTreeRegression</th>\n",
       "      <td>3.876013</td>\n",
       "    </tr>\n",
       "    <tr>\n",
       "      <th>RandomForestRegression</th>\n",
       "      <td>2.766466</td>\n",
       "    </tr>\n",
       "    <tr>\n",
       "      <th>SVR</th>\n",
       "      <td>3.578009</td>\n",
       "    </tr>\n",
       "  </tbody>\n",
       "</table>\n",
       "</div>"
      ],
      "text/plain": [
       "                            RMSE\n",
       "LinearRegression        3.441502\n",
       "DecisionTreeRegression  3.876013\n",
       "RandomForestRegression  2.766466\n",
       "SVR                     3.578009"
      ]
     },
     "execution_count": 28,
     "metadata": {},
     "output_type": "execute_result"
    }
   ],
   "source": [
    "all_rmse = [lin_reg_rmse,\n",
    "            tree_rmse,\n",
    "        rand_forest_rmse,\n",
    "        svm_rmse\n",
    "       ]\n",
    "value = pd.DataFrame(all_rmse)\n",
    "new_value_train = value.rename(columns = {0: 'RMSE'}, index={0: 'LinearRegression', 1: 'DecisionTreeRegression', 2: 'RandomForestRegression', 3: 'SVR',})\n",
    "new_value_train"
   ]
  },
  {
   "cell_type": "markdown",
   "id": "patent-desperate",
   "metadata": {},
   "source": [
    "As we can see in the chart above, the Random Forest Regression Algorithm with a cross valdiation of 10 folds gave us the lowest RMSE out of the other algorithms. We can also see that through cross validation our Decision Tree Regression model did not give us an RMSE of 0 and the RMSE of Linear Regression has decreased from the RMSE of the Linear Regression model without cross validation."
   ]
  },
  {
   "cell_type": "markdown",
   "id": "american-librarian",
   "metadata": {},
   "source": [
    "# Testing Trained Data"
   ]
  },
  {
   "cell_type": "code",
   "execution_count": 29,
   "id": "bibliographic-article",
   "metadata": {},
   "outputs": [
    {
     "data": {
      "text/plain": [
       "True"
      ]
     },
     "execution_count": 29,
     "metadata": {},
     "output_type": "execute_result"
    }
   ],
   "source": [
    "testX.isnull().values.any()"
   ]
  },
  {
   "cell_type": "code",
   "execution_count": 30,
   "id": "normal-startup",
   "metadata": {},
   "outputs": [
    {
     "data": {
      "text/plain": [
       "1"
      ]
     },
     "execution_count": 30,
     "metadata": {},
     "output_type": "execute_result"
    }
   ],
   "source": [
    "testX.isnull().values.sum()"
   ]
  },
  {
   "cell_type": "code",
   "execution_count": 31,
   "id": "stretch-blank",
   "metadata": {},
   "outputs": [
    {
     "data": {
      "text/plain": [
       "True"
      ]
     },
     "execution_count": 31,
     "metadata": {},
     "output_type": "execute_result"
    }
   ],
   "source": [
    "testX['Horsepower'].isnull().values.any()\n"
   ]
  },
  {
   "cell_type": "code",
   "execution_count": 32,
   "id": "comic-reference",
   "metadata": {},
   "outputs": [
    {
     "data": {
      "text/plain": [
       "False"
      ]
     },
     "execution_count": 32,
     "metadata": {},
     "output_type": "execute_result"
    }
   ],
   "source": [
    "median = data_mpg['Horsepower'].median()\n",
    "testX['Horsepower']=testX['Horsepower'].fillna(median)\n",
    "testX['Horsepower'].isnull().values.any()"
   ]
  },
  {
   "cell_type": "code",
   "execution_count": 33,
   "id": "outdoor-communication",
   "metadata": {},
   "outputs": [
    {
     "name": "stdout",
     "output_type": "stream",
     "text": [
      "<class 'pandas.core.frame.DataFrame'>\n",
      "Int64Index: 80 entries, 94 to 278\n",
      "Data columns (total 7 columns):\n",
      " #   Column        Non-Null Count  Dtype  \n",
      "---  ------        --------------  -----  \n",
      " 0   Cylinders     80 non-null     int64  \n",
      " 1   Displacement  80 non-null     float64\n",
      " 2   Horsepower    80 non-null     float64\n",
      " 3   Weight        80 non-null     float64\n",
      " 4   Acceleration  80 non-null     float64\n",
      " 5   Model Year    80 non-null     int64  \n",
      " 6   Origin        80 non-null     int64  \n",
      "dtypes: float64(4), int64(3)\n",
      "memory usage: 5.0 KB\n"
     ]
    }
   ],
   "source": [
    "testX.info()"
   ]
  },
  {
   "cell_type": "code",
   "execution_count": 34,
   "id": "continuing-dividend",
   "metadata": {},
   "outputs": [],
   "source": [
    "scaler = preprocessing.StandardScaler()\n",
    "testX = scaler.fit_transform(testX)"
   ]
  },
  {
   "cell_type": "markdown",
   "id": "dried-china",
   "metadata": {},
   "source": [
    "# Testing on Linear Regression Model "
   ]
  },
  {
   "cell_type": "code",
   "execution_count": 35,
   "id": "greenhouse-cooler",
   "metadata": {},
   "outputs": [
    {
     "name": "stdout",
     "output_type": "stream",
     "text": [
      "rmse:  3.013554414277359\n"
     ]
    }
   ],
   "source": [
    "predicted = lin_reg.predict(testX)\n",
    "\n",
    "lin_predict_mse = mean_squared_error(testY, predicted)\n",
    "lin_predict_rmse = np.sqrt(lin_predict_mse)\n",
    "print(\"rmse: \",lin_predict_rmse)"
   ]
  },
  {
   "cell_type": "markdown",
   "id": "handy-prefix",
   "metadata": {},
   "source": [
    "# Testing on Decision Tree Model"
   ]
  },
  {
   "cell_type": "code",
   "execution_count": 36,
   "id": "progressive-coordinator",
   "metadata": {},
   "outputs": [
    {
     "name": "stdout",
     "output_type": "stream",
     "text": [
      "rmse:  3.5359934954691306\n"
     ]
    }
   ],
   "source": [
    "predicted = tree.predict(testX)\n",
    "\n",
    "tree_predict_mse = mean_squared_error(testY, predicted)\n",
    "tree_predict_rmse = np.sqrt(tree_predict_mse)\n",
    "print(\"rmse: \",tree_predict_rmse)"
   ]
  },
  {
   "cell_type": "markdown",
   "id": "magnetic-album",
   "metadata": {},
   "source": [
    "# Testing on Random Forest Model"
   ]
  },
  {
   "cell_type": "code",
   "execution_count": 37,
   "id": "divided-receiver",
   "metadata": {},
   "outputs": [
    {
     "name": "stdout",
     "output_type": "stream",
     "text": [
      "rmse: 2.746133959769624\n"
     ]
    }
   ],
   "source": [
    "predicted = rand_forest.predict(testX)\n",
    "\n",
    "rand_forest_predict_mse = mean_squared_error(testY, predicted)\n",
    "rand_forest_predict_rmse = np.sqrt(rand_forest_predict_mse)\n",
    "\n",
    "print(\"rmse:\", rand_forest_predict_rmse)"
   ]
  },
  {
   "cell_type": "markdown",
   "id": "aquatic-tiffany",
   "metadata": {},
   "source": [
    "# Testing on SVM"
   ]
  },
  {
   "cell_type": "code",
   "execution_count": 38,
   "id": "upset-probe",
   "metadata": {},
   "outputs": [
    {
     "name": "stdout",
     "output_type": "stream",
     "text": [
      "rmse:  3.199821359068105\n"
     ]
    }
   ],
   "source": [
    "predicted = svm.predict(testX)\n",
    "\n",
    "svm_predict_mse = mean_squared_error(testY, predicted)\n",
    "svm_predict_rmse = np.sqrt(svm_predict_mse)\n",
    "print(\"rmse: \",svm_predict_rmse)"
   ]
  },
  {
   "cell_type": "markdown",
   "id": "violent-paintball",
   "metadata": {},
   "source": [
    "# All RMSE for Test"
   ]
  },
  {
   "cell_type": "code",
   "execution_count": 39,
   "id": "independent-belgium",
   "metadata": {
    "scrolled": false
   },
   "outputs": [
    {
     "data": {
      "text/html": [
       "<div>\n",
       "<style scoped>\n",
       "    .dataframe tbody tr th:only-of-type {\n",
       "        vertical-align: middle;\n",
       "    }\n",
       "\n",
       "    .dataframe tbody tr th {\n",
       "        vertical-align: top;\n",
       "    }\n",
       "\n",
       "    .dataframe thead th {\n",
       "        text-align: right;\n",
       "    }\n",
       "</style>\n",
       "<table border=\"1\" class=\"dataframe\">\n",
       "  <thead>\n",
       "    <tr style=\"text-align: right;\">\n",
       "      <th></th>\n",
       "      <th>RMSE</th>\n",
       "    </tr>\n",
       "  </thead>\n",
       "  <tbody>\n",
       "    <tr>\n",
       "      <th>LinearRegression</th>\n",
       "      <td>3.013554</td>\n",
       "    </tr>\n",
       "    <tr>\n",
       "      <th>DecisionTreeRegression</th>\n",
       "      <td>3.535993</td>\n",
       "    </tr>\n",
       "    <tr>\n",
       "      <th>RandomForestRegression</th>\n",
       "      <td>2.746134</td>\n",
       "    </tr>\n",
       "    <tr>\n",
       "      <th>SVR</th>\n",
       "      <td>3.199821</td>\n",
       "    </tr>\n",
       "  </tbody>\n",
       "</table>\n",
       "</div>"
      ],
      "text/plain": [
       "                            RMSE\n",
       "LinearRegression        3.013554\n",
       "DecisionTreeRegression  3.535993\n",
       "RandomForestRegression  2.746134\n",
       "SVR                     3.199821"
      ]
     },
     "execution_count": 39,
     "metadata": {},
     "output_type": "execute_result"
    }
   ],
   "source": [
    "test = [lin_predict_rmse,\n",
    "        tree_predict_rmse,\n",
    "        rand_forest_predict_rmse,\n",
    "        svm_predict_rmse\n",
    "       ]\n",
    "value = pd.DataFrame(test)\n",
    "new_value_test= value.rename(columns = {0: 'RMSE'}, index={0: 'LinearRegression', 1: 'DecisionTreeRegression', 2: 'RandomForestRegression', 3: 'SVR',})\n",
    "new_value_test"
   ]
  },
  {
   "cell_type": "markdown",
   "id": "distinct-cycling",
   "metadata": {},
   "source": [
    "# Compare RMSE for Training and Testing"
   ]
  },
  {
   "cell_type": "code",
   "execution_count": 40,
   "id": "patent-worcester",
   "metadata": {
    "scrolled": true
   },
   "outputs": [
    {
     "data": {
      "image/png": "[encoded data removed]",
      "text/plain": [
       "<Figure size 1080x720 with 1 Axes>"
      ]
     },
     "metadata": {
      "needs_background": "light"
     },
     "output_type": "display_data"
    }
   ],
   "source": [
    "samples = np.array(['LinReg', 'Tree', 'RandForest', 'SVR'])\n",
    "plt.figure(1, figsize=(15,10))\n",
    "plt.plot(samples, new_value_test.iloc[:,0], 'r', label='TestRMSE')\n",
    "plt.plot(samples, new_value_train.iloc[:,0], 'g', label='TrainRMSE')\n",
    "plt.title(\"Training and Testing RMSE values\")\n",
    "plt.xlabel(\"Models\")\n",
    "plt.ylabel(\"RMSE\")\n",
    "plt.legend()\n",
    "plt.show()"
   ]
  },
  {
   "cell_type": "markdown",
   "id": "substantial-charger",
   "metadata": {},
   "source": [
    "As seen in the plot above, the RMSE of the training and testing data are very similar with no extreme differences meaning that we have built good models. If the RMSE for the test set is much higher than that of the training set, it is most likely that we have overfit the data but in our case we did not. We also see that the RMSE of the test data is lower than that of the training data."
   ]
  },
  {
   "cell_type": "markdown",
   "id": "ahead-james",
   "metadata": {},
   "source": [
    "# Fine Tuning Random Forest Model"
   ]
  },
  {
   "cell_type": "markdown",
   "id": "continued-granny",
   "metadata": {},
   "source": [
    "As shown in the training RMSE, Random Forest Algorithm did the best out of the other ones performance wise. I decided that I wanted to fine tune our model more with hyperparameter to figure out which set of parameters of the random forest regressor works the best and improve the performance."
   ]
  },
  {
   "cell_type": "markdown",
   "id": "quality-brighton",
   "metadata": {},
   "source": [
    "## Hyperparameter Tuning with GridSearchCV\n"
   ]
  },
  {
   "cell_type": "markdown",
   "id": "seven-surprise",
   "metadata": {},
   "source": [
    "As learned in class, hyperparameter, is a parameter whose value is set to control the learning process. It is set before the learning takes place and can be altered to fine tune the learning model. Since the best model within the training was Random Forest, I decided to implement a hyperparameter tuning with GridSearchCV. By using GridSearchCV under sklearn, it will take some values that we want to experiment with and uses cross validation to evaluate the model on each hyperparameter values. "
   ]
  },
  {
   "cell_type": "markdown",
   "id": "endless-minute",
   "metadata": {},
   "source": [
    "In the case of a random forest, hyperparameters include the number of decision trees in the forest and the number of features considered by each tree when splitting a node. (n_estimators and max_features)"
   ]
  },
  {
   "cell_type": "markdown",
   "id": "authentic-adjustment",
   "metadata": {},
   "source": [
    "In my parameter set up I will work with 12 combinations in total with 3 different estimators and 4 different feature params."
   ]
  },
  {
   "cell_type": "code",
   "execution_count": 41,
   "id": "buried-savannah",
   "metadata": {},
   "outputs": [
    {
     "data": {
      "text/plain": [
       "GridSearchCV(cv=10, estimator=RandomForestRegressor(),\n",
       "             param_grid=[{'max_features': [2, 4, 6, 8],\n",
       "                          'n_estimators': [3, 10, 30]},\n",
       "                         {'bootstrap': [False], 'max_features': [2, 3, 4],\n",
       "                          'n_estimators': [3, 10]}],\n",
       "             return_train_score=True, scoring='neg_mean_squared_error')"
      ]
     },
     "execution_count": 41,
     "metadata": {},
     "output_type": "execute_result"
    }
   ],
   "source": [
    "#list of dictionaries\n",
    "# will work with 12 combinations \n",
    "params = [\n",
    "    {'n_estimators': [3, 10, 30], 'max_features': [2, 4, 6, 8]},\n",
    "    {'bootstrap': [False], 'n_estimators': [3, 10], 'max_features': [2, 3, 4]},\n",
    "]\n",
    "\n",
    "rand_forest = RandomForestRegressor()\n",
    "\n",
    "\n",
    "param_search = GridSearchCV(rand_forest, params, scoring='neg_mean_squared_error', return_train_score=True, cv=10)\n",
    "\n",
    "#train\n",
    "param_search.fit(trainX, trainY)\n"
   ]
  },
  {
   "cell_type": "code",
   "execution_count": 42,
   "id": "crude-advice",
   "metadata": {},
   "outputs": [
    {
     "data": {
      "text/plain": [
       "{'max_features': 6, 'n_estimators': 30}"
      ]
     },
     "execution_count": 42,
     "metadata": {},
     "output_type": "execute_result"
    }
   ],
   "source": [
    "param_search.best_params_"
   ]
  },
  {
   "cell_type": "code",
   "execution_count": 43,
   "id": "ruled-convert",
   "metadata": {},
   "outputs": [
    {
     "name": "stdout",
     "output_type": "stream",
     "text": [
      "3.304774890120772 {'max_features': 2, 'n_estimators': 3}\n",
      "3.1342383557356506 {'max_features': 2, 'n_estimators': 10}\n",
      "2.933738520555172 {'max_features': 2, 'n_estimators': 30}\n",
      "3.1302021395730684 {'max_features': 4, 'n_estimators': 3}\n",
      "3.0025807850860136 {'max_features': 4, 'n_estimators': 10}\n",
      "2.9366347801123025 {'max_features': 4, 'n_estimators': 30}\n",
      "3.079922063116947 {'max_features': 6, 'n_estimators': 3}\n",
      "3.0720385260678555 {'max_features': 6, 'n_estimators': 10}\n",
      "2.843267457582818 {'max_features': 6, 'n_estimators': 30}\n",
      "nan {'max_features': 8, 'n_estimators': 3}\n",
      "nan {'max_features': 8, 'n_estimators': 10}\n",
      "nan {'max_features': 8, 'n_estimators': 30}\n",
      "3.507850354975712 {'bootstrap': False, 'max_features': 2, 'n_estimators': 3}\n",
      "3.1321398806335 {'bootstrap': False, 'max_features': 2, 'n_estimators': 10}\n",
      "3.22725942635821 {'bootstrap': False, 'max_features': 3, 'n_estimators': 3}\n",
      "3.0836470915266303 {'bootstrap': False, 'max_features': 3, 'n_estimators': 10}\n",
      "3.0585486175729404 {'bootstrap': False, 'max_features': 4, 'n_estimators': 3}\n",
      "3.010442939759594 {'bootstrap': False, 'max_features': 4, 'n_estimators': 10}\n"
     ]
    }
   ],
   "source": [
    "scores = param_search.cv_results_\n",
    "\n",
    "\n",
    "#printing all the parameters along with their scores\n",
    "for mean_score, params in zip(scores['mean_test_score'],scores[\"params\"]):\n",
    "    print(np.sqrt(-mean_score), params)"
   ]
  },
  {
   "cell_type": "markdown",
   "id": "intellectual-controversy",
   "metadata": {},
   "source": [
    "## Figure out the weight of each feature "
   ]
  },
  {
   "cell_type": "code",
   "execution_count": 44,
   "id": "accessory-three",
   "metadata": {},
   "outputs": [
    {
     "data": {
      "text/plain": [
       "array([0.18487702, 0.33867378, 0.10961592, 0.20689223, 0.02558224,\n",
       "       0.12980598, 0.00455283])"
      ]
     },
     "execution_count": 44,
     "metadata": {},
     "output_type": "execute_result"
    }
   ],
   "source": [
    "weight_of_each_feature = param_search.best_estimator_.feature_importances_\n",
    "weight_of_each_feature"
   ]
  },
  {
   "cell_type": "code",
   "execution_count": null,
   "id": "animal-regulation",
   "metadata": {},
   "outputs": [],
   "source": [
    "data_types = ['float64', 'int64']\n",
    "features = list(data_mpg.select_dtypes(include=data_types))\n",
    "\n",
    "sorted(zip(features, weight_of_each_feature), reverse=True)"
   ]
  },
  {
   "cell_type": "markdown",
   "id": "stretch-iraqi",
   "metadata": {},
   "source": [
    "## Improvement of RMSE for Random Forest "
   ]
  },
  {
   "cell_type": "code",
   "execution_count": 46,
   "id": "criminal-denver",
   "metadata": {},
   "outputs": [
    {
     "data": {
      "text/plain": [
       "2.716607386878797"
      ]
     },
     "execution_count": 46,
     "metadata": {},
     "output_type": "execute_result"
    }
   ],
   "source": [
    "final_model = param_search.best_estimator_\n",
    "\n",
    "final_predictions = final_model.predict(testX)\n",
    "final_mse = mean_squared_error(testY, final_predictions)\n",
    "final_rmse = np.sqrt(final_mse)\n",
    "final_rmse"
   ]
  },
  {
   "cell_type": "markdown",
   "id": "placed-sodium",
   "metadata": {},
   "source": [
    "The testing RMSE after hyperparameter gave an RMSE of 2.7166 which is an improvement to the testing RMSE, 2.746134, of our Random Forest Regressor without hyperparameter."
   ]
  },
  {
   "cell_type": "markdown",
   "id": "processed-exclusion",
   "metadata": {},
   "source": [
    "# Conclusion/ Future Work"
   ]
  },
  {
   "cell_type": "markdown",
   "id": "changing-dodge",
   "metadata": {},
   "source": [
    "Overall the project is meant to predict MPG(miles per gallon) of cars based on specific features of the car: {Cylinders, Displacement, Horsepower, Weight, Acceleration, Model Year, Origin}. I used 4 different algorithms, Linear regression, Decision Tree regression, Random Forest regression and SVM. By training and testing on these 4 models I have come to the conclusion that the Random Forest regression gives the best performance out of the rest with lower RMSE values."
   ]
  },
  {
   "cell_type": "markdown",
   "id": "incoming-islam",
   "metadata": {},
   "source": [
    "Since the RMSE was the lowest for the Random Forest model, I decided to use hyperparameters to make my model have a better performance and can be shown that the RMSE was slightly lower. The random forest model did the best because a random forest is a collection of decision trees. Thus, in each tree we can utilize random features and eventually many or all of our features will have been included. The forests aggregate many decision trees to limit overfitting as well as error due to bias and therefore yields useful results."
   ]
  },
  {
   "cell_type": "markdown",
   "id": "surprised-upset",
   "metadata": {},
   "source": [
    "If I had more time or more teammates I would want to work with hyperparameters for decision trees with leaf sizes as well as testing on more regression models that I have not learned in class."
   ]
  },
  {
   "cell_type": "code",
   "execution_count": null,
   "id": "decent-scottish",
   "metadata": {},
   "outputs": [],
   "source": []
  }
 ],
 "metadata": {
  "kernelspec": {
   "display_name": "Python 3",
   "language": "python",
   "name": "python3"
  },
  "language_info": {
   "codemirror_mode": {
    "name": "ipython",
    "version": 3
   },
   "file_extension": ".py",
   "mimetype": "text/x-python",
   "name": "python",
   "nbconvert_exporter": "python",
   "pygments_lexer": "ipython3",
   "version": "3.8.5"
  }
 },
 "nbformat": 4,
 "nbformat_minor": 5
}
